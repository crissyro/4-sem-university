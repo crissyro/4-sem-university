{
  "nbformat": 4,
  "nbformat_minor": 0,
  "metadata": {
    "colab": {
      "provenance": []
    },
    "kernelspec": {
      "name": "python3",
      "display_name": "Python 3"
    },
    "language_info": {
      "name": "python"
    }
  },
  "cells": [
    {
      "cell_type": "code",
      "execution_count": null,
      "metadata": {
        "colab": {
          "base_uri": "https://localhost:8080/"
        },
        "id": "GYmRqnz1Z2V1",
        "outputId": "24d78691-3977-4e1f-f392-9503340998ff"
      },
      "outputs": [
        {
          "output_type": "stream",
          "name": "stdout",
          "text": [
            "Решение системы с использованием numpy.linalg.solve: [-5.05516376e-06 -4.34087636e+00 -1.52410101e-01]\n",
            "Решение системы с использованием scipy.linalg: [-5.05516376e-06 -4.34087636e+00 -1.52410101e-01]\n"
          ]
        }
      ],
      "source": [
        "'''\n",
        "Использование библиотеки NumPy\n",
        "Основным методом, используемым в numpy.linalg.solve\n",
        "является метод LU-разложения (LU decomposition) и его вариации\n",
        "'''\n",
        "import numpy as np\n",
        "\n",
        "# Коэффициенты системы уравнений\n",
        "A = np.array([[ 168, -150, 11231284],\n",
        "              [ 0,-185, 171],\n",
        "              [-163123123, 190, -1]\n",
        "             ], dtype=float)\n",
        "\n",
        "b = np.array([-1711110, 777, -0], dtype=float)\n",
        "\n",
        "# Решение системы\n",
        "x = np.linalg.solve(A, b)\n",
        "\n",
        "print(\"Решение системы с использованием numpy.linalg.solve:\", x)\n",
        "\n",
        "'''\n",
        "Использование библиотеки SciPy\n",
        "SciPy предлагает scipy.linalg.lu_solve\n",
        "для решения системы с помощью LU-разложения\n",
        "'''\n",
        "from scipy.linalg import lu_factor, lu_solve\n",
        "\n",
        "lu, piv = lu_factor(A)\n",
        "x_lu = lu_solve((lu, piv), b)\n",
        "\n",
        "print(\"Решение системы с использованием scipy.linalg:\", x_lu)"
      ]
    },
    {
      "cell_type": "code",
      "source": [
        "\n",
        "A = np.array([[ 113.7777, -17.5555, 1199.999111],\n",
        "              [ 0.797979,-33.3333, 17177777],\n",
        "              [-133111, 0.19537, -133.13333]\n",
        "             ], dtype=float)\n",
        "\n",
        "b = np.array([-33333, 777, -31313], dtype=float)\n",
        "\n",
        "def gauss(A, b):\n",
        "    \"\"\"\n",
        "    Решение СЛАУ методом Гаусса.\n",
        "    \"\"\"\n",
        "    numEquations = len(b)\n",
        "    # Прямой ход\n",
        "    for pivotRow in range(numEquations):\n",
        "        for currentRow in range(pivotRow + 1, numEquations):\n",
        "            factor = A[currentRow, pivotRow] / A[pivotRow, pivotRow]\n",
        "            for currentCol in range(pivotRow, numEquations):\n",
        "                A[currentRow, currentCol] -= factor * A[pivotRow, currentCol]\n",
        "            b[currentRow] -= factor * b[pivotRow]\n",
        "\n",
        "    # Обратный ход\n",
        "    solutionVector = np.zeros(numEquations)\n",
        "    for currentRow in range(numEquations - 1, -1, -1):\n",
        "        sum_ax = 0\n",
        "        for currentCol in range(currentRow + 1, numEquations):\n",
        "            sum_ax += A[currentRow, currentCol] * solutionVector[currentCol]\n",
        "        solutionVector[currentRow] = (b[currentRow] - sum_ax) / A[currentRow, currentRow]\n",
        "\n",
        "    return solutionVector\n",
        "\n",
        "print(gauss(A.copy(), b.copy()))\n",
        "\n",
        "def gauss_elimination_with_partial_pivoting(matrix, vector):\n",
        "    \"\"\"\n",
        "    Решает СЛАУ методом Гаусса с частичным выбором ведущего элемента.\n",
        "    \"\"\"\n",
        "    matrix_size = len(matrix)\n",
        "\n",
        "    # Прямой ход\n",
        "    for current_column in range(matrix_size):\n",
        "        max_index = np.argmax(np.abs(matrix[current_column:, current_column])) + current_column\n",
        "        matrix[[current_column, max_index]] = matrix[[max_index, current_column]]\n",
        "        vector[[current_column, max_index]] = vector[[max_index, current_column]]\n",
        "\n",
        "        for i in range(current_column + 1, matrix_size):\n",
        "            factor = matrix[i][current_column] / matrix[current_column][current_column]\n",
        "            matrix[i, current_column:] -= factor * matrix[current_column, current_column:]\n",
        "            vector[i] -= factor * vector[current_column]\n",
        "\n",
        "    # Обратный ход\n",
        "    solution = np.zeros(matrix_size)\n",
        "    for i in range(matrix_size - 1, -1, -1):\n",
        "        solution[i] = (vector[i] - np.dot(matrix[i, i + 1:], solution[i + 1:])) / matrix[i][i]\n",
        "\n",
        "    return solution\n",
        "\n",
        "print(gauss_elimination_with_partial_pivoting(A.copy(), b.copy()))\n",
        "\n",
        "def lu_decomposition(matrix, vector):\n",
        "    \"\"\"\n",
        "    Выполняет LU-разложение матрицы и решает СЛАУ с помощью этого разложения.\n",
        "    \"\"\"\n",
        "    matrix_size = len(matrix)\n",
        "    L = np.zeros((matrix_size, matrix_size))\n",
        "    U = np.zeros((matrix_size, matrix_size))\n",
        "\n",
        "    # LU разложение\n",
        "    for row in range(matrix_size):\n",
        "        L[row, row] = 1\n",
        "        for col in range(row, matrix_size):\n",
        "            sum_upper = sum(L[row, sum_index] * U[sum_index, col] for sum_index in range(row))\n",
        "            U[row, col] = matrix[row, col] - sum_upper\n",
        "        for col in range(row + 1, matrix_size):\n",
        "            sum_lower = sum(L[col, sum_index] * U[sum_index, row] for sum_index in range(row))\n",
        "            L[col, row] = (matrix[col, row] - sum_lower) / U[row, row]\n",
        "\n",
        "    # Решение Ly = b для y\n",
        "    y = np.zeros(matrix_size)\n",
        "    for row in range(matrix_size):\n",
        "        y[row] = vector[row] - np.dot(L[row, :row], y[:row])\n",
        "\n",
        "    # Решение Ux = y для x\n",
        "    x = np.zeros(matrix_size)\n",
        "    for row in range(matrix_size - 1, -1, -1):\n",
        "        x[row] = (y[row] - np.dot(U[row, row + 1:], x[row + 1:])) / U[row, row]\n",
        "\n",
        "    return x\n",
        "\n",
        "print(lu_decomposition(A.copy(), b.copy()))"
      ],
      "metadata": {
        "colab": {
          "base_uri": "https://localhost:8080/"
        },
        "id": "BQXtBV3ZbhNi",
        "outputId": "5c814044-82d5-4ad6-daa2-d53982da576a"
      },
      "execution_count": null,
      "outputs": [
        {
          "output_type": "stream",
          "name": "stdout",
          "text": [
            "[2.38025463e-01 1.90051903e+03 3.73315947e-03]\n",
            "[2.38025463e-01 1.90051903e+03 3.73315947e-03]\n",
            "[2.38025463e-01 1.90051903e+03 3.73315947e-03]\n"
          ]
        }
      ]
    },
    {
      "cell_type": "code",
      "source": [],
      "metadata": {
        "id": "KvyJ6qdXreMU"
      },
      "execution_count": null,
      "outputs": []
    }
  ]
}
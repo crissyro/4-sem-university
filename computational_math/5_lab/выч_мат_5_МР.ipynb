{
  "nbformat": 4,
  "nbformat_minor": 0,
  "metadata": {
    "colab": {
      "provenance": []
    },
    "kernelspec": {
      "name": "python3",
      "display_name": "Python 3"
    },
    "language_info": {
      "name": "python"
    }
  },
  "cells": [
    {
      "cell_type": "markdown",
      "source": [
        "# Численное дифференцирование"
      ],
      "metadata": {
        "id": "3UWcfGTfF17P"
      }
    },
    {
      "cell_type": "markdown",
      "source": [
        "## 1 Найти точное и приближенные значения первой производной функции индивидуального задания в точке x (конкретное, не обращающее функцию в 0 значение, выбрать самостоятельно), использовав формулы численного дифференцирования первого, второго и четвертого порядка аппроксимации, вычислив или подобрав оптимальный шаг h. Для каждого полученного значения определить абсолютную, относительную погрешности (сопоставив точное и приближенные значения), проверить теоретическую оценку абсолютной погрешности r."
      ],
      "metadata": {
        "id": "v0y8t65wF5_4"
      }
    },
    {
      "cell_type": "code",
      "source": [
        "# Установка Rust\n",
        "!curl --proto '=https' --tlsv1.2 -sSf https://sh.rustup.rs | sh -s -- -y\n",
        "import os\n",
        "os.environ['PATH'] += \":/root/.cargo/bin\""
      ],
      "metadata": {
        "colab": {
          "base_uri": "https://localhost:8080/"
        },
        "id": "T6Pnh_6ZGLI5",
        "outputId": "7c082d01-0f84-404f-948d-6c6cafc8f9dd"
      },
      "execution_count": 1,
      "outputs": [
        {
          "output_type": "stream",
          "name": "stdout",
          "text": [
            "\u001b[1minfo:\u001b[0m downloading installer\n",
            "\u001b[0m\u001b[1minfo: \u001b[0mprofile set to 'default'\n",
            "\u001b[0m\u001b[1minfo: \u001b[0mdefault host triple is x86_64-unknown-linux-gnu\n",
            "\u001b[0m\u001b[1minfo: \u001b[0msyncing channel updates for 'stable-x86_64-unknown-linux-gnu'\n",
            "\u001b[0m\u001b[1minfo: \u001b[0mlatest update on 2025-03-18, rust version 1.85.1 (4eb161250 2025-03-15)\n",
            "\u001b[0m\u001b[1minfo: \u001b[0mdownloading component 'cargo'\n",
            "\u001b[0m\u001b[1minfo: \u001b[0mdownloading component 'clippy'\n",
            "\u001b[0m\u001b[1minfo: \u001b[0mdownloading component 'rust-docs'\n",
            "\u001b[0m\u001b[1minfo: \u001b[0mdownloading component 'rust-std'\n",
            " 29.2 MiB /  29.2 MiB (100 %)  18.0 MiB/s in  1s\n",
            "\u001b[0m\u001b[1minfo: \u001b[0mdownloading component 'rustc'\n",
            " 69.5 MiB /  69.5 MiB (100 %)  16.9 MiB/s in  3s\n",
            "\u001b[0m\u001b[1minfo: \u001b[0mdownloading component 'rustfmt'\n",
            "\u001b[0m\u001b[1minfo: \u001b[0minstalling component 'cargo'\n",
            "  8.8 MiB /   8.8 MiB (100 %)   6.1 MiB/s in  1s\n",
            "\u001b[0m\u001b[1minfo: \u001b[0minstalling component 'clippy'\n",
            "\u001b[0m\u001b[1minfo: \u001b[0minstalling component 'rust-docs'\n",
            " 18.2 MiB /  18.2 MiB (100 %)   2.4 MiB/s in  8s\n",
            "\u001b[0m\u001b[1minfo: \u001b[0minstalling component 'rust-std'\n",
            " 29.2 MiB /  29.2 MiB (100 %)   4.8 MiB/s in  6s\n",
            "\u001b[0m\u001b[1minfo: \u001b[0minstalling component 'rustc'\n",
            " 69.5 MiB /  69.5 MiB (100 %)   5.6 MiB/s in 12s\n",
            "\u001b[0m\u001b[1minfo: \u001b[0minstalling component 'rustfmt'\n",
            "\u001b[0m\u001b[1minfo: \u001b[0mdefault toolchain set to 'stable-x86_64-unknown-linux-gnu'\n",
            "\n",
            "  \u001b[0m\u001b[1m\u001b[0m\u001b[1m\u001b[32mstable-x86_64-unknown-linux-gnu installed\u001b[0m - rustc 1.85.1 (4eb161250 2025-03-15)\n",
            "\n",
            "\u001b[0m\u001b[1m\n",
            "Rust is installed now. Great!\n",
            "\u001b[0m\n",
            "To get started you may need to restart your current shell.\n",
            "This would reload your \u001b[0m\u001b[1mPATH\u001b[0m environment variable to include\n",
            "Cargo's bin directory ($HOME/.cargo/bin).\n",
            "\n",
            "To configure your current shell, you need to source\n",
            "the corresponding \u001b[0m\u001b[1menv\u001b[0m file under $HOME/.cargo.\n",
            "\n",
            "This is usually done by running one of the following (note the leading DOT):\n",
            ". \"$HOME/.cargo/env\"            # For sh/bash/zsh/ash/dash/pdksh\n",
            "source \"$HOME/.cargo/env.fish\"  # For fish\n",
            "source \"$HOME/.cargo/env.nu\"    # For nushell\n"
          ]
        }
      ]
    },
    {
      "cell_type": "code",
      "source": [
        "# Проверка установки Rust\n",
        "!rustc --version"
      ],
      "metadata": {
        "colab": {
          "base_uri": "https://localhost:8080/"
        },
        "id": "GVTPevdzTi1E",
        "outputId": "8d74ac90-e228-450f-de9b-08f46239059c"
      },
      "execution_count": 2,
      "outputs": [
        {
          "output_type": "stream",
          "name": "stdout",
          "text": [
            "rustc 1.85.1 (4eb161250 2025-03-15)\n"
          ]
        }
      ]
    },
    {
      "cell_type": "markdown",
      "source": [
        "##  2 Найти точное и приближенное значения второй производной функции индивидуального задания в точке x. Подобрать оптимальный шаг h экспериментально. Определить абсолютную, относительную погрешности."
      ],
      "metadata": {
        "id": "HjuGqyFNF6D7"
      }
    },
    {
      "cell_type": "markdown",
      "source": [
        "## 3 Найти точное и приближенное значения третьей производной функции индивидуального задания в точке x. Подобрать оптимальный шаг h экспериментально. Определить абсолютную, относительную погрешности."
      ],
      "metadata": {
        "id": "hKrlvSZCF6IV"
      }
    },
    {
      "cell_type": "markdown",
      "source": [
        "## 4 Подготовить программы на языке Rust для всех численных расчетов.\n"
      ],
      "metadata": {
        "id": "n11ADlDdF6Sv"
      }
    },
    {
      "cell_type": "code",
      "source": [
        "%%writefile main.rs\n",
        "\n",
        "use std::f64;\n",
        "\n",
        "// Исходная функция\n",
        "fn f(x: f64) -> f64 {\n",
        "    x.cos() * x.sinh() + (-0.2 * x).exp() * (x + 10.0).ln()\n",
        "}\n",
        "\n",
        "// Аналитические производные\n",
        "fn f_prime_exact(x: f64) -> f64 {\n",
        "    -x.sin() * x.sinh() + x.cos() * x.cosh() + (-0.2 * x).exp() * (-0.2 * (x + 10.0).ln() + 1.0 / (x + 10.0))\n",
        "}\n",
        "\n",
        "fn f_double_prime_exact(x: f64) -> f64 {\n",
        "    -2.0 * x.sin() * x.cosh() + (-0.2 * x).exp() * (\n",
        "        0.04 * (x + 10.0).ln() - 0.4 / (x + 10.0) - 1.0 / (x + 10.0).powi(2)\n",
        "    )\n",
        "}\n",
        "\n",
        "fn f_triple_prime_exact(x: f64) -> f64 {\n",
        "    -2.0 * (x.cos() * x.cosh() + x.sin() * x.sinh()) + (-0.2 * x).exp() * (\n",
        "        -0.2 * (0.04 * (x + 10.0).ln() - 0.4 / (x + 10.0) - 1.0 / (x + 10.0).powi(2)) +\n",
        "        0.04 / (x + 10.0) + 0.4 / (x + 10.0).powi(2) + 2.0 / (x + 10.0).powi(3)\n",
        "    )\n",
        "}\n",
        "\n",
        "// Численные методы\n",
        "fn forward_diff<F: Fn(f64) -> f64>(f: F, x: f64, h: f64) -> f64 {\n",
        "    (f(x + h) - f(x)) / h\n",
        "}\n",
        "\n",
        "fn central_diff<F: Fn(f64) -> f64>(f: F, x: f64, h: f64) -> f64 {\n",
        "    (f(x + h) - f(x - h)) / (2.0 * h)\n",
        "}\n",
        "\n",
        "fn fourth_order_diff<F: Fn(f64) -> f64>(f: F, x: f64, h: f64) -> f64 {\n",
        "    (f(x - 2.0 * h) - 8.0 * f(x - h) + 8.0 * f(x + h) - f(x + 2.0 * h)) / (12.0 * h)\n",
        "}\n",
        "\n",
        "fn second_derivative<F: Fn(f64) -> f64>(f: F, x: f64, h: f64) -> f64 {\n",
        "    (f(x - h) - 2.0 * f(x) + f(x + h)) / h.powi(2)\n",
        "}\n",
        "\n",
        "fn third_derivative<F: Fn(f64) -> f64>(f: F, x: f64, h: f64) -> f64 {\n",
        "    let h_half = h / 2.0;\n",
        "    (f(x + 3.0 * h_half) - 3.0 * f(x + h_half) + 3.0 * f(x - h_half) - f(x - 3.0 * h_half)) / h.powi(3)\n",
        "}\n",
        "\n",
        "// Поиск оптимальных шагов\n",
        "fn compute_optimal_hs(x: f64) -> (f64, f64, f64) {\n",
        "    let interval = 0.1; // Окрестность точки x: [x - 0.1, x + 0.1]\n",
        "    let a = x - interval;\n",
        "    let b = x + interval;\n",
        "    let step = 0.001;\n",
        "\n",
        "    // M0 для E (погрешность округления)\n",
        "    let m0 = find_max(f, a, b, step);\n",
        "    let epsilon = f64::EPSILON;\n",
        "    let e = m0 * epsilon;\n",
        "\n",
        "    // M2, M3, M5 для оптимальных h\n",
        "    let m2 = find_max(f_double_prime_exact, a, b, step);\n",
        "    let m3 = find_max(|x| f_triple_prime_exact(x).abs(), a, b, step);\n",
        "    let m5 = 1000.0;\n",
        "\n",
        "    let h1_opt = 2.0 * (e / m2).sqrt();\n",
        "    let h2_opt = (3.0 * e / m3).cbrt();\n",
        "    let h3_opt = (45.0 * e / (4.0 * m5)).powf(0.2);\n",
        "\n",
        "    (h1_opt, h2_opt, h3_opt)\n",
        "}\n",
        "\n",
        "// Поиск максимума функции на интервале\n",
        "fn find_max<F: Fn(f64) -> f64>(f: F, a: f64, b: f64, step: f64) -> f64 {\n",
        "    let mut max_val = f64::MIN;\n",
        "    let mut x = a;\n",
        "    while x <= b {\n",
        "        let val = f(x).abs();\n",
        "        if val > max_val {\n",
        "            max_val = val;\n",
        "        }\n",
        "        x += step;\n",
        "    }\n",
        "    max_val\n",
        "}\n",
        "\n",
        "fn main() {\n",
        "    let x = 2.0;\n",
        "\n",
        "    // Точные значения производных (аналитические)\n",
        "    let exact_f1 = f_prime_exact(x);\n",
        "    let exact_f2 = f_double_prime_exact(x);\n",
        "    let exact_f3 = f_triple_prime_exact(x);\n",
        "\n",
        "    // Оптимальные шаги для каждой производной\n",
        "    let (h1_opt, h2_opt, h3_opt) = compute_optimal_hs(x);\n",
        "\n",
        "    // Приближенные значения производных\n",
        "    let approx_f1_forward = forward_diff(f, x, h1_opt);\n",
        "    let approx_f1_central = central_diff(f, x, h2_opt);\n",
        "    let approx_f1_fourth = fourth_order_diff(f, x, h3_opt);\n",
        "\n",
        "    let approx_f2 = second_derivative(f, x, h2_opt);\n",
        "    let approx_f3 = third_derivative(f, x, h3_opt);\n",
        "\n",
        "    // Вывод результатов\n",
        "    println!(\"Точка x = {}\\n\", x);\n",
        "\n",
        "    // Первая производная\n",
        "    println!(\"Первая производная:\");\n",
        "    println!(\"Точное значение: {}\", exact_f1);\n",
        "    println!(\"Прямая разность (h = {:.2e}): {}\", h1_opt, approx_f1_forward);\n",
        "    println!(\"Центральная разность (h = {:.2e}): {}\", h2_opt, approx_f1_central);\n",
        "    println!(\"Формула 4-го порядка (h = {:.2e}): {}\", h3_opt, approx_f1_fourth);\n",
        "    println!(\"Абс. погрешности: {:.2e}, {:.2e}, {:.2e}\",\n",
        "        (exact_f1 - approx_f1_forward).abs(),\n",
        "        (exact_f1 - approx_f1_central).abs(),\n",
        "        (exact_f1 - approx_f1_fourth).abs()\n",
        "    );\n",
        "\n",
        "    // Вторая производная\n",
        "    println!(\"\\nВторая производная:\");\n",
        "    println!(\"Точное значение: {}\", exact_f2);\n",
        "    println!(\"Приближенное (h = {:.2e}): {}\", h2_opt, approx_f2);\n",
        "    println!(\"Абс. погрешность: {:.2e}\", (exact_f2 - approx_f2).abs());\n",
        "\n",
        "    // Третья производная\n",
        "    println!(\"\\nТретья производная:\");\n",
        "    println!(\"Точное значение: {}\", exact_f3);\n",
        "    println!(\"Приближенное (h = {:.2e}): {}\", h3_opt, approx_f3);\n",
        "    println!(\"Абс. погрешность: {:.2e}\", (exact_f3 - approx_f3).abs());\n",
        "}"
      ],
      "metadata": {
        "colab": {
          "base_uri": "https://localhost:8080/"
        },
        "id": "kgh4upHoGJpr",
        "outputId": "87a9c9c1-dd65-4578-8b54-dfcfbb901e0e"
      },
      "execution_count": 7,
      "outputs": [
        {
          "output_type": "stream",
          "name": "stdout",
          "text": [
            "Overwriting main.rs\n"
          ]
        }
      ]
    },
    {
      "cell_type": "code",
      "source": [
        "!rustc main.rs && ./main"
      ],
      "metadata": {
        "colab": {
          "base_uri": "https://localhost:8080/"
        },
        "id": "saa8wZZyZXTY",
        "outputId": "dc298e2f-53f0-4ed4-a069-1a65689bfd86"
      },
      "execution_count": 8,
      "outputs": [
        {
          "output_type": "stream",
          "name": "stdout",
          "text": [
            "Точка x = 2\n",
            "\n",
            "Первая производная:\n",
            "Точное значение: -5.1407972157667094\n",
            "Прямая разность (h = 8.92e-9): -5.140797309050553\n",
            "Центральная разность (h = 4.74e-6): -5.140797215650708\n",
            "Формула 4-го порядка (h = 2.76e-4): -5.1407972157693465\n",
            "Абс. погрешности: 9.33e-8, 1.16e-10, 2.64e-12\n",
            "\n",
            "Вторая производная:\n",
            "Точное значение: -6.8022814144930335\n",
            "Приближенное (h = 4.74e-6): -6.802237400687951\n",
            "Абс. погрешность: 4.40e-5\n",
            "\n",
            "Третья производная:\n",
            "Точное значение: -3.4675914298712414\n",
            "Приближенное (h = 2.76e-4): -3.4676882381925807\n",
            "Абс. погрешность: 9.68e-5\n"
          ]
        }
      ]
    },
    {
      "cell_type": "code",
      "source": [],
      "metadata": {
        "id": "oieFnOPAZbR1"
      },
      "execution_count": null,
      "outputs": []
    }
  ]
}
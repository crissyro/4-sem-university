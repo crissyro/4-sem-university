{
  "nbformat": 4,
  "nbformat_minor": 0,
  "metadata": {
    "colab": {
      "provenance": []
    },
    "kernelspec": {
      "name": "python3",
      "display_name": "Python 3"
    },
    "language_info": {
      "name": "python"
    }
  },
  "cells": [
    {
      "cell_type": "markdown",
      "source": [
        "# Численное интегрирование"
      ],
      "metadata": {
        "id": "WLqnqkmdaATv"
      }
    },
    {
      "cell_type": "markdown",
      "source": [
        "## 1 Найти приближенные значения определенного интеграла из индивидуального задания в интервале [a=0, b=10], использовав формулы численного интегрирования первого, второго и четвертого порядка аппроксимации. Подобрать оптимальный шаг h экспериментально. Найти верхние оценки погрешности ε.\n",
        "\n",
        "## 2 Подготовить программы на языке Rust для всех численных расчетов.\n",
        "\n",
        "### 1.Метод левых прямоугольников подразумевает использование значений функции на левом конце каждого подинтервала:\n",
        "\n",
        "### 2.Метод правых прямоугольников использует значения функции на правом конце каждого подинтервала:\n",
        "\n",
        "\n",
        "### 3. Метод средних прямоугольников берёт значения функции в середине каждого подинтервала:\n",
        "\n",
        "### 4. Метод трапеций аппроксимирует область под кривой, используя трапециевидные сегменты, основанные на значениях функции на обоих концах каждого подинтервала:\n",
        "\n",
        "\n",
        "### 5. Метод Симпсона приближает область под кривой, используя параболические сегменты, что требует вычисления значений функции в начале, середине и конце подинтервалов:"
      ],
      "metadata": {
        "id": "6bCghIoXaJqO"
      }
    },
    {
      "cell_type": "code",
      "source": [
        "# Установка Rust\n",
        "!curl --proto '=https' --tlsv1.2 -sSf https://sh.rustup.rs | sh -s -- -y\n",
        "import os\n",
        "os.environ['PATH'] += \":/root/.cargo/bin\""
      ],
      "metadata": {
        "colab": {
          "base_uri": "https://localhost:8080/"
        },
        "id": "pf1sUJiPeUki",
        "outputId": "592b545a-7180-48b7-80c4-6848d1baa7d6"
      },
      "execution_count": 6,
      "outputs": [
        {
          "output_type": "stream",
          "name": "stdout",
          "text": [
            "\u001b[1minfo:\u001b[0m downloading installer\n",
            "\u001b[0m\u001b[1m\u001b[33mwarn: \u001b[0mIt looks like you have an existing rustup settings file at:\n",
            "\u001b[0m\u001b[1m\u001b[33mwarn: \u001b[0m/root/.rustup/settings.toml\n",
            "\u001b[0m\u001b[1m\u001b[33mwarn: \u001b[0mRustup will install the default toolchain as specified in the settings file,\n",
            "\u001b[0m\u001b[1m\u001b[33mwarn: \u001b[0minstead of the one inferred from the default host triple.\n",
            "\u001b[0m\u001b[1minfo: \u001b[0mprofile set to 'default'\n",
            "\u001b[0m\u001b[1minfo: \u001b[0mdefault host triple is x86_64-unknown-linux-gnu\n",
            "\u001b[0m\u001b[1m\u001b[33mwarn: \u001b[0mUpdating existing toolchain, profile choice will be ignored\n",
            "\u001b[0m\u001b[1minfo: \u001b[0msyncing channel updates for 'stable-x86_64-unknown-linux-gnu'\n",
            "\u001b[0m\u001b[1minfo: \u001b[0mdefault toolchain set to 'stable-x86_64-unknown-linux-gnu'\n",
            "\n",
            "  \u001b[0m\u001b[1mstable-x86_64-unknown-linux-gnu unchanged\u001b[0m - rustc 1.85.1 (4eb161250 2025-03-15)\n",
            "\n",
            "\u001b[0m\u001b[1m\n",
            "Rust is installed now. Great!\n",
            "\u001b[0m\n",
            "To get started you may need to restart your current shell.\n",
            "This would reload your \u001b[0m\u001b[1mPATH\u001b[0m environment variable to include\n",
            "Cargo's bin directory ($HOME/.cargo/bin).\n",
            "\n",
            "To configure your current shell, you need to source\n",
            "the corresponding \u001b[0m\u001b[1menv\u001b[0m file under $HOME/.cargo.\n",
            "\n",
            "This is usually done by running one of the following (note the leading DOT):\n",
            ". \"$HOME/.cargo/env\"            # For sh/bash/zsh/ash/dash/pdksh\n",
            "source \"$HOME/.cargo/env.fish\"  # For fish\n",
            "source \"$HOME/.cargo/env.nu\"    # For nushell\n"
          ]
        }
      ]
    },
    {
      "cell_type": "code",
      "source": [
        "# Проверка установки Rust\n",
        "!rustc --version"
      ],
      "metadata": {
        "colab": {
          "base_uri": "https://localhost:8080/"
        },
        "id": "pUddKVRKe5kD",
        "outputId": "3ba2bd3b-4727-416a-9744-f5cf0330ebec"
      },
      "execution_count": 7,
      "outputs": [
        {
          "output_type": "stream",
          "name": "stdout",
          "text": [
            "rustc 1.85.1 (4eb161250 2025-03-15)\n"
          ]
        }
      ]
    },
    {
      "cell_type": "code",
      "execution_count": 16,
      "metadata": {
        "colab": {
          "base_uri": "https://localhost:8080/"
        },
        "id": "K7obiSXpZ44H",
        "outputId": "932cf7f9-2b0b-4d42-b9b5-bd833cce3376"
      },
      "outputs": [
        {
          "output_type": "stream",
          "name": "stdout",
          "text": [
            "Overwriting integrate.rs\n"
          ]
        }
      ],
      "source": [
        "%%writefile integrate.rs\n",
        "\n",
        "use std::f64;\n",
        "\n",
        "fn main() {\n",
        "    let a = 0.0;\n",
        "    let b = 10.0;\n",
        "    let target_error = 1e-6;\n",
        "\n",
        "    // Приближенное \"точное\" значение интеграла\n",
        "    let exact_integral = simpson(f, a, b, 1_000_000);\n",
        "\n",
        "    // Подбор оптимального шага\n",
        "    let (h_left, integral_left) = find_optimal_h(left_rect, a, b, target_error, exact_integral);\n",
        "    let (h_right, integral_right) = find_optimal_h(right_rect, a, b, target_error, exact_integral);\n",
        "    let (h_mid, integral_mid) = find_optimal_h(mid_rect, a, b, target_error, exact_integral);\n",
        "    let (h_trap, integral_trap) = find_optimal_h(trapezoid, a, b, target_error, exact_integral);\n",
        "    let (h_simp, integral_simp) = find_optimal_h(simpson, a, b, target_error, exact_integral);\n",
        "\n",
        "    let error_left = error_estimate(1, a, b, h_left);\n",
        "    let error_right = error_estimate(1, a, b, h_right);\n",
        "    let error_mid = error_estimate(2, a, b, h_mid);\n",
        "    let error_trap = error_estimate(2, a, b, h_trap);\n",
        "    let error_simp = error_estimate(4, a, b, h_simp);\n",
        "\n",
        "    println!(\"Интеграл на [0, 10]\");\n",
        "    println!(\"Точное значение (приближ.): {:.6}\\n\", exact_integral);\n",
        "\n",
        "    println!(\"Метод левых прямоугольников:\");\n",
        "    println!(\"h = {:.2e}, Интеграл = {:.6}, Оценка погрешности ≤ {:.2e}\", h_left, integral_left, error_left);\n",
        "\n",
        "    println!(\"\\nМетод правых прямоугольников:\");\n",
        "    println!(\"h = {:.2e}, Интеграл = {:.6}, Оценка погрешности ≤ {:.2e}\", h_right, integral_right, error_right);\n",
        "\n",
        "    println!(\"\\nМетод средних прямоугольников:\");\n",
        "    println!(\"h = {:.2e}, Интеграл = {:.6}, Оценка погрешности ≤ {:.2e}\", h_mid, integral_mid, error_mid);\n",
        "\n",
        "    println!(\"\\nМетод трапеций:\");\n",
        "    println!(\"h = {:.2e}, Интеграл = {:.6}, Оценка погрешности ≤ {:.2e}\", h_trap, integral_trap, error_trap);\n",
        "\n",
        "    println!(\"\\nМетод Симпсона:\");\n",
        "    println!(\"h = {:.2e}, Интеграл = {:.6}, Оценка погрешности ≤ {:.2e}\", h_simp, integral_simp, error_simp);\n",
        "}\n",
        "\n",
        "fn f(x: f64) -> f64 {\n",
        "    ((1.9 * x).cos() * (1.1 * x).cosh() + 1.8 * x) / 1.2 + (-0.2 * x).exp()\n",
        "}\n",
        "\n",
        "// Методы интегрирования\n",
        "fn left_rect<F: Fn(f64) -> f64>(f: F, a: f64, b: f64, n: usize) -> f64 {\n",
        "    let h = (b - a) / n as f64;\n",
        "    (0..n).map(|i| f(a + i as f64 * h)).sum::<f64>() * h\n",
        "}\n",
        "\n",
        "fn right_rect<F: Fn(f64) -> f64>(f: F, a: f64, b: f64, n: usize) -> f64 {\n",
        "    let h = (b - a) / n as f64;\n",
        "    (1..=n).map(|i| f(a + i as f64 * h)).sum::<f64>() * h\n",
        "}\n",
        "\n",
        "fn mid_rect<F: Fn(f64) -> f64>(f: F, a: f64, b: f64, n: usize) -> f64 {\n",
        "    let h = (b - a) / n as f64;\n",
        "    (0..n).map(|i| f(a + (i as f64 + 0.5) * h)).sum::<f64>() * h\n",
        "}\n",
        "\n",
        "fn trapezoid<F: Fn(f64) -> f64>(f: F, a: f64, b: f64, n: usize) -> f64 {\n",
        "    let h = (b - a) / n as f64;\n",
        "    let sum: f64 = (1..n).map(|i| f(a + i as f64 * h)).sum();\n",
        "    (f(a) + 2.0 * sum + f(b)) * h / 2.0\n",
        "}\n",
        "\n",
        "fn simpson<F: Fn(f64) -> f64>(f: F, a: f64, b: f64, n: usize) -> f64 {\n",
        "    let h = (b - a) / n as f64;\n",
        "    let sum1: f64 = (1..n).step_by(2).map(|i| 4.0 * f(a + i as f64 * h)).sum();\n",
        "    let sum2: f64 = (2..n-1).step_by(2).map(|i| 2.0 * f(a + i as f64 * h)).sum();\n",
        "    (f(a) + sum1 + sum2 + f(b)) * h / 3.0\n",
        "}\n",
        "\n",
        "fn find_optimal_h<F>(method: F, a: f64, b: f64, target_error: f64, exact: f64) -> (f64, f64)\n",
        "where\n",
        "    F: Fn(fn(f64) -> f64, f64, f64, usize) -> f64,\n",
        "{\n",
        "    let mut n = 10;\n",
        "    let mut h = (b - a) / n as f64;\n",
        "    let mut integral = method(f, a, b, n);\n",
        "    let mut prev_diff = f64::MAX;\n",
        "\n",
        "    while n <= 1_000_000 {\n",
        "        let diff = (integral - exact).abs();\n",
        "        if diff < target_error || diff >= prev_diff {\n",
        "            break;\n",
        "        }\n",
        "        prev_diff = diff;\n",
        "        n *= 2;\n",
        "        h = (b - a) / n as f64;\n",
        "        integral = method(f, a, b, n);\n",
        "    }\n",
        "    (h, integral)\n",
        "}\n",
        "\n",
        "fn error_estimate(order: usize, a: f64, b: f64, h: f64) -> f64 {\n",
        "    let max_deriv = match order {\n",
        "        1 => find_max_derivative(1, a, b),\n",
        "        2 => find_max_derivative(2, a, b),\n",
        "        4 => find_max_derivative(4, a, b),\n",
        "        _ => 0.0,\n",
        "    };\n",
        "    let factor = match order {\n",
        "        1 => (b - a) * h / 2.0,\n",
        "        2 => (b - a) * h.powi(2) / 24.0,\n",
        "        4 => (b - a) * h.powi(4) / 180.0,\n",
        "        _ => 0.0,\n",
        "    };\n",
        "    max_deriv * factor\n",
        "}\n",
        "\n",
        "fn find_max_derivative(n: usize, a: f64, b: f64) -> f64 {\n",
        "    let step = 0.01;\n",
        "    let mut max: f64 = 0.0;\n",
        "    let mut x = a;\n",
        "    while x <= b {\n",
        "        let deriv = match n {\n",
        "            1 => central_diff(f, x, step),\n",
        "            2 => central_diff(|x| central_diff(f, x, step), x, step),\n",
        "            4 => {\n",
        "                let f2 = |x| central_diff(|x| central_diff(|x| central_diff(f, x, step), x, step), x, step);\n",
        "                central_diff(f2, x, step)\n",
        "            }\n",
        "            _ => 0.0,\n",
        "        };\n",
        "        max = max.max(deriv.abs());\n",
        "        x += step;\n",
        "    }\n",
        "    max\n",
        "}\n",
        "\n",
        "fn central_diff<F: Fn(f64) -> f64>(f: F, x: f64, h: f64) -> f64 {\n",
        "    (f(x + h) - f(x - h)) / (2.0 * h)\n",
        "}"
      ]
    },
    {
      "cell_type": "code",
      "source": [
        "!rustc integrate.rs && ./integrate"
      ],
      "metadata": {
        "colab": {
          "base_uri": "https://localhost:8080/"
        },
        "id": "goevuFFPeQ5z",
        "outputId": "598fac57-4e17-46ca-838e-537fbf99b940"
      },
      "execution_count": 17,
      "outputs": [
        {
          "output_type": "stream",
          "name": "stdout",
          "text": [
            "Интеграл на [0, 10]\n",
            "Точное значение (приближ.): 7182.347710\n",
            "\n",
            "Метод левых прямоугольников:\n",
            "h = 7.63e-6, Интеграл = 7182.253567, Оценка погрешности ≤ 1.23e0\n",
            "\n",
            "Метод правых прямоугольников:\n",
            "h = 7.63e-6, Интеграл = 7182.441854, Оценка погрешности ≤ 1.23e0\n",
            "\n",
            "Метод средних прямоугольников:\n",
            "h = 3.05e-5, Интеграл = 7182.347710, Оценка погрешности ≤ 2.90e-5\n",
            "\n",
            "Метод трапеций:\n",
            "h = 1.53e-5, Интеграл = 7182.347711, Оценка погрешности ≤ 7.26e-6\n",
            "\n",
            "Метод Симпсона:\n",
            "h = 3.91e-3, Интеграл = 7182.347710, Оценка погрешности ≤ 4.41e-6\n"
          ]
        }
      ]
    }
  ]
}